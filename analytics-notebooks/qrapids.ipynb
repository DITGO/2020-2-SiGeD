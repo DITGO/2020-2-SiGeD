{
 "cells": [
  {
   "cell_type": "markdown",
   "metadata": {},
   "source": [
    "# Analytics"
   ]
  },
  {
   "cell_type": "markdown",
   "metadata": {},
   "source": [
    "#### Date: 2020/02\n",
    "\n",
    "#### SUMMARY:\n",
    "\n",
    "- This notebook represents the project quality analysis of the date exposed right above. "
   ]
  },
  {
   "cell_type": "markdown",
   "metadata": {},
   "source": [
    "### TEAM: SiGeD\n",
    "\n",
    "##### Semester: 2020/02\n",
    "##### Professor: Hilmer Neri\n",
    "\n",
    "##### Members:\n",
    "\n",
    "- Vitor Leal\n",
    "- Gabriel Carvalho\n",
    "- Ezequiel de Oliveira\n",
    "- Gabriela Guedes\n",
    "- Davi Marinho da Silva Campos\n",
    "- João Pedro Alves da Silva Chaves\n",
    "- Thiago França Vale Oliveira\n",
    "- Lucas da Cunha Andrade\n",
    "- Dafne Moretti Moreira\n",
    "- Victor Yukio Cavalcanti Miki"
   ]
  },
  {
   "cell_type": "markdown",
   "metadata": {},
   "source": [
    "### LIBRARIES"
   ]
  },
  {
   "cell_type": "code",
   "execution_count": 1,
   "metadata": {},
   "outputs": [
    {
     "name": "stdout",
     "output_type": "stream",
     "text": [
      "Requirement already satisfied: numpy in /opt/homebrew/lib/python3.9/site-packages (from -r requirements.txt (line 1)) (1.20.3)\r\n",
      "Requirement already satisfied: pandas in /opt/homebrew/lib/python3.9/site-packages (from -r requirements.txt (line 2)) (1.2.4)\r\n",
      "Requirement already satisfied: seaborn in /opt/homebrew/lib/python3.9/site-packages (from -r requirements.txt (line 3)) (0.11.1)\r\n",
      "Requirement already satisfied: urllib3 in /opt/homebrew/lib/python3.9/site-packages (from -r requirements.txt (line 4)) (1.26.4)\r\n",
      "Requirement already satisfied: matplotlib in /opt/homebrew/lib/python3.9/site-packages (from -r requirements.txt (line 5)) (3.4.2)\r\n",
      "Requirement already satisfied: openpyxl in /opt/homebrew/lib/python3.9/site-packages (from -r requirements.txt (line 6)) (3.0.7)\r\n",
      "Requirement already satisfied: pytz>=2017.3 in /opt/homebrew/lib/python3.9/site-packages (from pandas->-r requirements.txt (line 2)) (2021.1)\r\n",
      "Requirement already satisfied: python-dateutil>=2.7.3 in /opt/homebrew/lib/python3.9/site-packages (from pandas->-r requirements.txt (line 2)) (2.8.1)\r\n",
      "Requirement already satisfied: six>=1.5 in /opt/homebrew/lib/python3.9/site-packages (from python-dateutil>=2.7.3->pandas->-r requirements.txt (line 2)) (1.16.0)\r\n",
      "Requirement already satisfied: scipy>=1.0 in /opt/homebrew/lib/python3.9/site-packages (from seaborn->-r requirements.txt (line 3)) (1.6.3)\r\n",
      "Requirement already satisfied: kiwisolver>=1.0.1 in /opt/homebrew/lib/python3.9/site-packages (from matplotlib->-r requirements.txt (line 5)) (1.3.1)\r\n",
      "Requirement already satisfied: cycler>=0.10 in /opt/homebrew/lib/python3.9/site-packages (from matplotlib->-r requirements.txt (line 5)) (0.10.0)\r\n",
      "Requirement already satisfied: pillow>=6.2.0 in /opt/homebrew/lib/python3.9/site-packages (from matplotlib->-r requirements.txt (line 5)) (8.2.0)\r\n",
      "Requirement already satisfied: pyparsing>=2.2.1 in /opt/homebrew/lib/python3.9/site-packages (from matplotlib->-r requirements.txt (line 5)) (2.4.7)\r\n",
      "Requirement already satisfied: et-xmlfile in /opt/homebrew/lib/python3.9/site-packages (from openpyxl->-r requirements.txt (line 6)) (1.1.0)\r\n"
     ]
    }
   ],
   "source": [
    "!pip3 install -r requirements.txt"
   ]
  },
  {
   "cell_type": "code",
   "execution_count": 2,
   "metadata": {},
   "outputs": [],
   "source": [
    "# Deal with data\n",
    "import pandas as pd\n",
    "import numpy as np\n",
    "import json\n",
    "\n",
    "# Deal with API request\n",
    "import urllib3\n",
    "from urllib3 import request\n",
    "\n",
    "# Deal with visualization\n",
    "import seaborn as sns\n",
    "import matplotlib.pyplot as plt"
   ]
  },
  {
   "cell_type": "markdown",
   "metadata": {},
   "source": [
    "### GRAPH SETTINGS"
   ]
  },
  {
   "cell_type": "code",
   "execution_count": 3,
   "metadata": {},
   "outputs": [],
   "source": [
    "%config InlineBackend.figure_format ='retina'\n",
    "sns.set(font_scale=1.5)\n",
    "sns.set_style('darkgrid',\n",
    "              {'xtick.bottom' : True,\n",
    "               'ytick.left': True,\n",
    "               'grid.linestyle':'--',\n",
    "               'font.monospace': ['Computer Modern Typewriter'],\n",
    "               'axes.edgecolor' : 'white'})"
   ]
  },
  {
   "cell_type": "markdown",
   "metadata": {},
   "source": [
    "### DATAFRAME SETTINGS"
   ]
  },
  {
   "cell_type": "code",
   "execution_count": 4,
   "metadata": {},
   "outputs": [],
   "source": [
    "pd.set_option(\"display.max_rows\", None, \"display.max_columns\", None)"
   ]
  },
  {
   "cell_type": "markdown",
   "metadata": {},
   "source": [
    "### SonarCloud"
   ]
  },
  {
   "cell_type": "markdown",
   "metadata": {},
   "source": [
    "#### KEYS"
   ]
  },
  {
   "cell_type": "code",
   "execution_count": 5,
   "metadata": {},
   "outputs": [],
   "source": [
    "front_key = 'fga-eps-mds_2020-2-G4-Frontend'"
   ]
  },
  {
   "cell_type": "code",
   "execution_count": 6,
   "metadata": {},
   "outputs": [],
   "source": [
    "clients_key = 'fga-eps-mds_2020-2-G4-Clients'"
   ]
  },
  {
   "cell_type": "code",
   "execution_count": 7,
   "metadata": {},
   "outputs": [],
   "source": [
    "demands_key = 'fga-eps-mds_2020-2-G4-Demands'"
   ]
  },
  {
   "cell_type": "code",
   "execution_count": 8,
   "metadata": {},
   "outputs": [],
   "source": [
    "users_key = 'fga-eps-mds_2020-2-G4-Demands'"
   ]
  },
  {
   "cell_type": "code",
   "execution_count": 9,
   "metadata": {},
   "outputs": [],
   "source": [
    "sectors_key = 'fga-eps-mds_2020-2-G4-Sectors'"
   ]
  },
  {
   "cell_type": "markdown",
   "metadata": {},
   "source": [
    "#### METRICS"
   ]
  },
  {
   "cell_type": "code",
   "execution_count": 10,
   "metadata": {},
   "outputs": [
    {
     "data": {
      "text/plain": [
       "10"
      ]
     },
     "execution_count": 10,
     "metadata": {},
     "output_type": "execute_result"
    }
   ],
   "source": [
    "metric_list = ['files',\n",
    "               'functions',\n",
    "               'complexity',\n",
    "               'comment_lines_density',\n",
    "               'duplicated_lines_density',\n",
    "               'security_rating',\n",
    "               'tests',\n",
    "               'test_success_density',\n",
    "               'test_execution_time',\n",
    "               'reliability_rating']\n",
    "\n",
    "len(metric_list)"
   ]
  },
  {
   "cell_type": "code",
   "execution_count": 11,
   "metadata": {},
   "outputs": [],
   "source": [
    "def generate_metric_string(metric_list):\n",
    "    metric_str = ''\n",
    "    \n",
    "    for metric in metric_list:\n",
    "        metric_str += metric + ','\n",
    "        \n",
    "    return metric_str"
   ]
  },
  {
   "cell_type": "code",
   "execution_count": 12,
   "metadata": {},
   "outputs": [],
   "source": [
    "metric_str = generate_metric_string(metric_list)"
   ]
  },
  {
   "cell_type": "markdown",
   "metadata": {},
   "source": [
    "#### URLS"
   ]
  },
  {
   "cell_type": "code",
   "execution_count": 13,
   "metadata": {},
   "outputs": [],
   "source": [
    "front_url = f\"https://sonarcloud.io/api/measures/component_tree?component={front_key}&metricKeys={metric_str}&ps=500\"\n",
    "clients_url = f\"https://sonarcloud.io/api/measures/component_tree?component={clients_key}&metricKeys={metric_str}&ps=500\"\n",
    "demands_url = f\"https://sonarcloud.io/api/measures/component_tree?component={demands_key}&metricKeys={metric_str}&ps=500\"\n",
    "users_url = f\"https://sonarcloud.io/api/measures/component_tree?component={users_key}&metricKeys={metric_str}&ps=500\"\n",
    "sectors_url = f\"https://sonarcloud.io/api/measures/component_tree?component={sectors_key}&metricKeys={metric_str}&ps=500\""
   ]
  },
  {
   "cell_type": "markdown",
   "metadata": {},
   "source": [
    "#### API REQUEST"
   ]
  },
  {
   "cell_type": "code",
   "execution_count": 14,
   "metadata": {},
   "outputs": [],
   "source": [
    "http = urllib3.PoolManager()"
   ]
  },
  {
   "cell_type": "code",
   "execution_count": 15,
   "metadata": {},
   "outputs": [
    {
     "data": {
      "text/plain": [
       "503"
      ]
     },
     "execution_count": 15,
     "metadata": {},
     "output_type": "execute_result"
    }
   ],
   "source": [
    "front_request = http.request('GET', front_url)\n",
    "front_request.status"
   ]
  },
  {
   "cell_type": "code",
   "execution_count": 16,
   "metadata": {},
   "outputs": [
    {
     "data": {
      "text/plain": [
       "503"
      ]
     },
     "execution_count": 16,
     "metadata": {},
     "output_type": "execute_result"
    }
   ],
   "source": [
    "clients_request = http.request('GET', clients_url)\n",
    "clients_request.status"
   ]
  },
  {
   "cell_type": "code",
   "execution_count": 17,
   "metadata": {},
   "outputs": [
    {
     "data": {
      "text/plain": [
       "503"
      ]
     },
     "execution_count": 17,
     "metadata": {},
     "output_type": "execute_result"
    }
   ],
   "source": [
    "demands_request = http.request('GET', demands_url)\n",
    "demands_request.status"
   ]
  },
  {
   "cell_type": "code",
   "execution_count": 18,
   "metadata": {},
   "outputs": [
    {
     "data": {
      "text/plain": [
       "503"
      ]
     },
     "execution_count": 18,
     "metadata": {},
     "output_type": "execute_result"
    }
   ],
   "source": [
    "users_request = http.request('GET', users_url)\n",
    "users_request.status"
   ]
  },
  {
   "cell_type": "code",
   "execution_count": 19,
   "metadata": {},
   "outputs": [
    {
     "data": {
      "text/plain": [
       "503"
      ]
     },
     "execution_count": 19,
     "metadata": {},
     "output_type": "execute_result"
    }
   ],
   "source": [
    "sectors_request = http.request('GET', sectors_url)\n",
    "sectors_request.status"
   ]
  },
  {
   "cell_type": "markdown",
   "metadata": {},
   "source": [
    "#### JSON DECODING"
   ]
  },
  {
   "cell_type": "code",
   "execution_count": 20,
   "metadata": {},
   "outputs": [
    {
     "ename": "JSONDecodeError",
     "evalue": "Expecting value: line 1 column 1 (char 0)",
     "output_type": "error",
     "traceback": [
      "\u001b[0;31m---------------------------------------------------------------------------\u001b[0m",
      "\u001b[0;31mJSONDecodeError\u001b[0m                           Traceback (most recent call last)",
      "\u001b[0;32m<ipython-input-20-6d341c57ae29>\u001b[0m in \u001b[0;36m<module>\u001b[0;34m\u001b[0m\n\u001b[0;32m----> 1\u001b[0;31m \u001b[0mfront_json\u001b[0m \u001b[0;34m=\u001b[0m \u001b[0mjson\u001b[0m\u001b[0;34m.\u001b[0m\u001b[0mloads\u001b[0m\u001b[0;34m(\u001b[0m\u001b[0mfront_request\u001b[0m\u001b[0;34m.\u001b[0m\u001b[0mdata\u001b[0m\u001b[0;34m.\u001b[0m\u001b[0mdecode\u001b[0m\u001b[0;34m(\u001b[0m\u001b[0;34m'utf-8'\u001b[0m\u001b[0;34m)\u001b[0m\u001b[0;34m)\u001b[0m\u001b[0;34m\u001b[0m\u001b[0;34m\u001b[0m\u001b[0m\n\u001b[0m\u001b[1;32m      2\u001b[0m \u001b[0mclients_json\u001b[0m \u001b[0;34m=\u001b[0m \u001b[0mjson\u001b[0m\u001b[0;34m.\u001b[0m\u001b[0mloads\u001b[0m\u001b[0;34m(\u001b[0m\u001b[0mclients_request\u001b[0m\u001b[0;34m.\u001b[0m\u001b[0mdata\u001b[0m\u001b[0;34m.\u001b[0m\u001b[0mdecode\u001b[0m\u001b[0;34m(\u001b[0m\u001b[0;34m'utf-8'\u001b[0m\u001b[0;34m)\u001b[0m\u001b[0;34m)\u001b[0m\u001b[0;34m\u001b[0m\u001b[0;34m\u001b[0m\u001b[0m\n\u001b[1;32m      3\u001b[0m \u001b[0mdemands_json\u001b[0m \u001b[0;34m=\u001b[0m \u001b[0mjson\u001b[0m\u001b[0;34m.\u001b[0m\u001b[0mloads\u001b[0m\u001b[0;34m(\u001b[0m\u001b[0mdemands_request\u001b[0m\u001b[0;34m.\u001b[0m\u001b[0mdata\u001b[0m\u001b[0;34m.\u001b[0m\u001b[0mdecode\u001b[0m\u001b[0;34m(\u001b[0m\u001b[0;34m'utf-8'\u001b[0m\u001b[0;34m)\u001b[0m\u001b[0;34m)\u001b[0m\u001b[0;34m\u001b[0m\u001b[0;34m\u001b[0m\u001b[0m\n\u001b[1;32m      4\u001b[0m \u001b[0musers_json\u001b[0m \u001b[0;34m=\u001b[0m \u001b[0mjson\u001b[0m\u001b[0;34m.\u001b[0m\u001b[0mloads\u001b[0m\u001b[0;34m(\u001b[0m\u001b[0musers_request\u001b[0m\u001b[0;34m.\u001b[0m\u001b[0mdata\u001b[0m\u001b[0;34m.\u001b[0m\u001b[0mdecode\u001b[0m\u001b[0;34m(\u001b[0m\u001b[0;34m'utf-8'\u001b[0m\u001b[0;34m)\u001b[0m\u001b[0;34m)\u001b[0m\u001b[0;34m\u001b[0m\u001b[0;34m\u001b[0m\u001b[0m\n\u001b[1;32m      5\u001b[0m \u001b[0msectors_json\u001b[0m \u001b[0;34m=\u001b[0m \u001b[0mjson\u001b[0m\u001b[0;34m.\u001b[0m\u001b[0mloads\u001b[0m\u001b[0;34m(\u001b[0m\u001b[0msectors_request\u001b[0m\u001b[0;34m.\u001b[0m\u001b[0mdata\u001b[0m\u001b[0;34m.\u001b[0m\u001b[0mdecode\u001b[0m\u001b[0;34m(\u001b[0m\u001b[0;34m'utf-8'\u001b[0m\u001b[0;34m)\u001b[0m\u001b[0;34m)\u001b[0m\u001b[0;34m\u001b[0m\u001b[0;34m\u001b[0m\u001b[0m\n",
      "\u001b[0;32m/opt/homebrew/Cellar/python@3.9/3.9.5/Frameworks/Python.framework/Versions/3.9/lib/python3.9/json/__init__.py\u001b[0m in \u001b[0;36mloads\u001b[0;34m(s, cls, object_hook, parse_float, parse_int, parse_constant, object_pairs_hook, **kw)\u001b[0m\n\u001b[1;32m    344\u001b[0m             \u001b[0mparse_int\u001b[0m \u001b[0;32mis\u001b[0m \u001b[0;32mNone\u001b[0m \u001b[0;32mand\u001b[0m \u001b[0mparse_float\u001b[0m \u001b[0;32mis\u001b[0m \u001b[0;32mNone\u001b[0m \u001b[0;32mand\u001b[0m\u001b[0;34m\u001b[0m\u001b[0;34m\u001b[0m\u001b[0m\n\u001b[1;32m    345\u001b[0m             parse_constant is None and object_pairs_hook is None and not kw):\n\u001b[0;32m--> 346\u001b[0;31m         \u001b[0;32mreturn\u001b[0m \u001b[0m_default_decoder\u001b[0m\u001b[0;34m.\u001b[0m\u001b[0mdecode\u001b[0m\u001b[0;34m(\u001b[0m\u001b[0ms\u001b[0m\u001b[0;34m)\u001b[0m\u001b[0;34m\u001b[0m\u001b[0;34m\u001b[0m\u001b[0m\n\u001b[0m\u001b[1;32m    347\u001b[0m     \u001b[0;32mif\u001b[0m \u001b[0mcls\u001b[0m \u001b[0;32mis\u001b[0m \u001b[0;32mNone\u001b[0m\u001b[0;34m:\u001b[0m\u001b[0;34m\u001b[0m\u001b[0;34m\u001b[0m\u001b[0m\n\u001b[1;32m    348\u001b[0m         \u001b[0mcls\u001b[0m \u001b[0;34m=\u001b[0m \u001b[0mJSONDecoder\u001b[0m\u001b[0;34m\u001b[0m\u001b[0;34m\u001b[0m\u001b[0m\n",
      "\u001b[0;32m/opt/homebrew/Cellar/python@3.9/3.9.5/Frameworks/Python.framework/Versions/3.9/lib/python3.9/json/decoder.py\u001b[0m in \u001b[0;36mdecode\u001b[0;34m(self, s, _w)\u001b[0m\n\u001b[1;32m    335\u001b[0m \u001b[0;34m\u001b[0m\u001b[0m\n\u001b[1;32m    336\u001b[0m         \"\"\"\n\u001b[0;32m--> 337\u001b[0;31m         \u001b[0mobj\u001b[0m\u001b[0;34m,\u001b[0m \u001b[0mend\u001b[0m \u001b[0;34m=\u001b[0m \u001b[0mself\u001b[0m\u001b[0;34m.\u001b[0m\u001b[0mraw_decode\u001b[0m\u001b[0;34m(\u001b[0m\u001b[0ms\u001b[0m\u001b[0;34m,\u001b[0m \u001b[0midx\u001b[0m\u001b[0;34m=\u001b[0m\u001b[0m_w\u001b[0m\u001b[0;34m(\u001b[0m\u001b[0ms\u001b[0m\u001b[0;34m,\u001b[0m \u001b[0;36m0\u001b[0m\u001b[0;34m)\u001b[0m\u001b[0;34m.\u001b[0m\u001b[0mend\u001b[0m\u001b[0;34m(\u001b[0m\u001b[0;34m)\u001b[0m\u001b[0;34m)\u001b[0m\u001b[0;34m\u001b[0m\u001b[0;34m\u001b[0m\u001b[0m\n\u001b[0m\u001b[1;32m    338\u001b[0m         \u001b[0mend\u001b[0m \u001b[0;34m=\u001b[0m \u001b[0m_w\u001b[0m\u001b[0;34m(\u001b[0m\u001b[0ms\u001b[0m\u001b[0;34m,\u001b[0m \u001b[0mend\u001b[0m\u001b[0;34m)\u001b[0m\u001b[0;34m.\u001b[0m\u001b[0mend\u001b[0m\u001b[0;34m(\u001b[0m\u001b[0;34m)\u001b[0m\u001b[0;34m\u001b[0m\u001b[0;34m\u001b[0m\u001b[0m\n\u001b[1;32m    339\u001b[0m         \u001b[0;32mif\u001b[0m \u001b[0mend\u001b[0m \u001b[0;34m!=\u001b[0m \u001b[0mlen\u001b[0m\u001b[0;34m(\u001b[0m\u001b[0ms\u001b[0m\u001b[0;34m)\u001b[0m\u001b[0;34m:\u001b[0m\u001b[0;34m\u001b[0m\u001b[0;34m\u001b[0m\u001b[0m\n",
      "\u001b[0;32m/opt/homebrew/Cellar/python@3.9/3.9.5/Frameworks/Python.framework/Versions/3.9/lib/python3.9/json/decoder.py\u001b[0m in \u001b[0;36mraw_decode\u001b[0;34m(self, s, idx)\u001b[0m\n\u001b[1;32m    353\u001b[0m             \u001b[0mobj\u001b[0m\u001b[0;34m,\u001b[0m \u001b[0mend\u001b[0m \u001b[0;34m=\u001b[0m \u001b[0mself\u001b[0m\u001b[0;34m.\u001b[0m\u001b[0mscan_once\u001b[0m\u001b[0;34m(\u001b[0m\u001b[0ms\u001b[0m\u001b[0;34m,\u001b[0m \u001b[0midx\u001b[0m\u001b[0;34m)\u001b[0m\u001b[0;34m\u001b[0m\u001b[0;34m\u001b[0m\u001b[0m\n\u001b[1;32m    354\u001b[0m         \u001b[0;32mexcept\u001b[0m \u001b[0mStopIteration\u001b[0m \u001b[0;32mas\u001b[0m \u001b[0merr\u001b[0m\u001b[0;34m:\u001b[0m\u001b[0;34m\u001b[0m\u001b[0;34m\u001b[0m\u001b[0m\n\u001b[0;32m--> 355\u001b[0;31m             \u001b[0;32mraise\u001b[0m \u001b[0mJSONDecodeError\u001b[0m\u001b[0;34m(\u001b[0m\u001b[0;34m\"Expecting value\"\u001b[0m\u001b[0;34m,\u001b[0m \u001b[0ms\u001b[0m\u001b[0;34m,\u001b[0m \u001b[0merr\u001b[0m\u001b[0;34m.\u001b[0m\u001b[0mvalue\u001b[0m\u001b[0;34m)\u001b[0m \u001b[0;32mfrom\u001b[0m \u001b[0;32mNone\u001b[0m\u001b[0;34m\u001b[0m\u001b[0;34m\u001b[0m\u001b[0m\n\u001b[0m\u001b[1;32m    356\u001b[0m         \u001b[0;32mreturn\u001b[0m \u001b[0mobj\u001b[0m\u001b[0;34m,\u001b[0m \u001b[0mend\u001b[0m\u001b[0;34m\u001b[0m\u001b[0;34m\u001b[0m\u001b[0m\n",
      "\u001b[0;31mJSONDecodeError\u001b[0m: Expecting value: line 1 column 1 (char 0)"
     ]
    }
   ],
   "source": [
    "front_json = json.loads(front_request.data.decode('utf-8'))\n",
    "clients_json = json.loads(clients_request.data.decode('utf-8'))\n",
    "demands_json = json.loads(demands_request.data.decode('utf-8'))\n",
    "users_json = json.loads(users_request.data.decode('utf-8'))\n",
    "sectors_json = json.loads(sectors_request.data.decode('utf-8'))"
   ]
  },
  {
   "cell_type": "markdown",
   "metadata": {},
   "source": [
    "## DATA"
   ]
  },
  {
   "cell_type": "markdown",
   "metadata": {},
   "source": [
    "### PROJECT"
   ]
  },
  {
   "cell_type": "code",
   "execution_count": null,
   "metadata": {},
   "outputs": [],
   "source": [
    "project_front_json = front_json['baseComponent']['measures']\n",
    "project_clients_json = clients_json['baseComponent']['measures']\n",
    "project_demands_json = demands_json['baseComponent']['measures']\n",
    "project_users_json = users_json['baseComponent']['measures']\n",
    "project_sectors_json = sectors_json['baseComponent']['measures']"
   ]
  },
  {
   "cell_type": "code",
   "execution_count": null,
   "metadata": {},
   "outputs": [],
   "source": [
    "project_front_data = pd.DataFrame(project_front_json)\n",
    "project_clients_data = pd.DataFrame(project_clients_json)\n",
    "project_demands_data = pd.DataFrame(project_demands_json)\n",
    "project_users_data = pd.DataFrame(project_users_json)\n",
    "project_sectors_data = pd.DataFrame(project_sectors_json)"
   ]
  },
  {
   "cell_type": "markdown",
   "metadata": {},
   "source": [
    "##### FRONT"
   ]
  },
  {
   "cell_type": "code",
   "execution_count": null,
   "metadata": {},
   "outputs": [],
   "source": [
    "project_front_data"
   ]
  },
  {
   "cell_type": "markdown",
   "metadata": {},
   "source": [
    "##### BACK"
   ]
  },
  {
   "cell_type": "code",
   "execution_count": null,
   "metadata": {},
   "outputs": [],
   "source": [
    "project_clients_data"
   ]
  },
  {
   "cell_type": "code",
   "execution_count": null,
   "metadata": {},
   "outputs": [],
   "source": [
    "project_demands_data"
   ]
  },
  {
   "cell_type": "code",
   "execution_count": null,
   "metadata": {},
   "outputs": [],
   "source": [
    "project_users_data"
   ]
  },
  {
   "cell_type": "code",
   "execution_count": null,
   "metadata": {},
   "outputs": [],
   "source": [
    "project_sectors_data"
   ]
  },
  {
   "cell_type": "markdown",
   "metadata": {},
   "source": [
    "### FILES"
   ]
  },
  {
   "cell_type": "code",
   "execution_count": null,
   "metadata": {},
   "outputs": [],
   "source": [
    "def metric_per_file(json):\n",
    "    file_json = []\n",
    "    \n",
    "    for component in json['components']:\n",
    "        if component['qualifier'] == 'FIL':\n",
    "            file_json.append(component)\n",
    "            \n",
    "    return file_json"
   ]
  },
  {
   "cell_type": "code",
   "execution_count": null,
   "metadata": {},
   "outputs": [],
   "source": [
    "front_file_json = metric_per_file(front_json)\n",
    "clients_file_json = metric_per_file(front_json)\n",
    "demands_file_json = metric_per_file(front_json)\n",
    "users_file_json = metric_per_file(front_json)\n",
    "sectors_file_json = metric_per_file(front_json)"
   ]
  },
  {
   "cell_type": "code",
   "execution_count": null,
   "metadata": {},
   "outputs": [],
   "source": [
    "def generate_file_dataframe(metric_list, json, language_extension):\n",
    "    df_columns = metric_list\n",
    "    df = pd.DataFrame(columns = df_columns)\n",
    "    \n",
    "    for file in json:\n",
    "        try:\n",
    "            if file['language'] == language_extension:\n",
    "                for measure in file['measures']:\n",
    "                    df.at[file['path'], measure['metric']] = measure['value']\n",
    "        except:\n",
    "            pass\n",
    "        \n",
    "    df.reset_index(inplace = True)\n",
    "    df = df.rename({'index': 'path'}, axis=1).drop(['files'], axis=1)\n",
    "\n",
    "    return df"
   ]
  },
  {
   "cell_type": "code",
   "execution_count": null,
   "metadata": {},
   "outputs": [],
   "source": [
    "front_files_data = generate_file_dataframe(metric_list, front_file_json, language_extension = 'js')\n",
    "clients_files_data = generate_file_dataframe(metric_list, clients_file_json, language_extension = 'js')\n",
    "demands_files_data = generate_file_dataframe(metric_list, demands_file_json, language_extension = 'js')\n",
    "users_files_data = generate_file_dataframe(metric_list, users_file_json, language_extension = 'js')\n",
    "sectors_files_data = generate_file_dataframe(metric_list, sectors_file_json, language_extension = 'js')"
   ]
  },
  {
   "cell_type": "markdown",
   "metadata": {},
   "source": [
    "##### FRONT"
   ]
  },
  {
   "cell_type": "code",
   "execution_count": null,
   "metadata": {},
   "outputs": [],
   "source": [
    "front_files_data"
   ]
  },
  {
   "cell_type": "code",
   "execution_count": null,
   "metadata": {
    "scrolled": true
   },
   "outputs": [],
   "source": [
    "clients_files_data"
   ]
  },
  {
   "cell_type": "code",
   "execution_count": null,
   "metadata": {},
   "outputs": [],
   "source": [
    "demands_files_data"
   ]
  },
  {
   "cell_type": "code",
   "execution_count": null,
   "metadata": {},
   "outputs": [],
   "source": [
    "users_files_data"
   ]
  },
  {
   "cell_type": "code",
   "execution_count": null,
   "metadata": {},
   "outputs": [],
   "source": [
    "sectors_files_data"
   ]
  },
  {
   "cell_type": "markdown",
   "metadata": {},
   "source": [
    "# ANALYSIS"
   ]
  },
  {
   "cell_type": "markdown",
   "metadata": {},
   "source": [
    "## MAINTAINABILITY"
   ]
  },
  {
   "cell_type": "markdown",
   "metadata": {},
   "source": [
    "### CODE QUALITY"
   ]
  },
  {
   "cell_type": "markdown",
   "metadata": {},
   "source": [
    "##### COMPLEXITY"
   ]
  },
  {
   "cell_type": "code",
   "execution_count": 21,
   "metadata": {},
   "outputs": [],
   "source": [
    "def m1(df):\n",
    "    \n",
    "    density_non_complex_files = round((len(df[(df['complexity'].astype(float)/df['functions'].astype(float)) < 10])/len(df))*100, 2)\n",
    "    \n",
    "    return density_non_complex_files"
   ]
  },
  {
   "cell_type": "markdown",
   "metadata": {},
   "source": [
    "##### COMMENTS"
   ]
  },
  {
   "cell_type": "code",
   "execution_count": 22,
   "metadata": {},
   "outputs": [],
   "source": [
    "def m2(df):\n",
    "    \n",
    "    density_comment_files = round((len(df[(df['comment_lines_density'].astype(float) > 10) & (df['comment_lines_density'].astype(float) < 30)])/len(df))*100, 2)\n",
    "    \n",
    "    return density_comment_files"
   ]
  },
  {
   "cell_type": "markdown",
   "metadata": {},
   "source": [
    "##### DUPLICATIONS"
   ]
  },
  {
   "cell_type": "code",
   "execution_count": 23,
   "metadata": {},
   "outputs": [],
   "source": [
    "def m3(df):\n",
    "    \n",
    "    duplication = round((len(df[(df['duplicated_lines_density'].astype(float) < 5)])/len(df))*100, 2)\n",
    "    \n",
    "    return duplication"
   ]
  },
  {
   "cell_type": "markdown",
   "metadata": {},
   "source": [
    "### BLOCKING CODE"
   ]
  },
  {
   "cell_type": "markdown",
   "metadata": {},
   "source": [
    "#### NON-BLOCKING FILES"
   ]
  },
  {
   "cell_type": "code",
   "execution_count": 24,
   "metadata": {},
   "outputs": [],
   "source": [
    "def m4(df):\n",
    "    \n",
    "    non_blocking_files = round((len(df[(df['security_rating'].astype(float) >= 4)])/len(df))*100,2)\n",
    "    \n",
    "    return non_blocking_files"
   ]
  },
  {
   "cell_type": "markdown",
   "metadata": {},
   "source": [
    "## RELIABILITY"
   ]
  },
  {
   "cell_type": "markdown",
   "metadata": {},
   "source": [
    "#### TEST SUCCESS"
   ]
  },
  {
   "cell_type": "code",
   "execution_count": null,
   "metadata": {},
   "outputs": [],
   "source": [
    "def m5(df):\n",
    "    \n",
    "    test_success_file = df[['path', 'test_success_density']]\n",
    "    test_success_repository = df['test_success_density'].astype(float).mean()\n",
    "    \n",
    "    print(\"Project test unit density: \", test_success_repository)\n",
    "    \n",
    "    return test_success_file"
   ]
  },
  {
   "cell_type": "markdown",
   "metadata": {},
   "source": [
    "#### FAST TESTS"
   ]
  },
  {
   "cell_type": "code",
   "execution_count": null,
   "metadata": {},
   "outputs": [],
   "source": [
    "def m6(df):\n",
    "    \n",
    "    fast_test_df = df[(df['test_execution_time'].astype(float) < 300)]\n",
    "    fast_test_df['fast_test'] = fast_test_df['test_execution_time']/fast_test_df['tests']\n",
    "    \n",
    "    fast_test_file = fast_test_df[['path', 'fast_test']]\n",
    "    \n",
    "    fast_test_repository = fast_test_df['fast_test'].astype(float).mean()\n",
    "    \n",
    "    print(\"Project test unit density: \", fast_test_repository)\n",
    "    \n",
    "    return fast_test_file"
   ]
  },
  {
   "cell_type": "markdown",
   "metadata": {},
   "source": [
    "## PRODUCTIVITY"
   ]
  },
  {
   "cell_type": "markdown",
   "metadata": {},
   "source": [
    "#### RESOLVED ISSUES' THROUGHPUT"
   ]
  },
  {
   "cell_type": "code",
   "execution_count": 25,
   "metadata": {},
   "outputs": [],
   "source": [
    "def m7(number_of_issues_resolved, number_of_issues):\n",
    "    \n",
    "    resolved_issues_throughput = round((number_of_issues_resolved / number_of_issues) * 100, 2)\n",
    "    \n",
    "    return resolved_issues_throughput"
   ]
  },
  {
   "cell_type": "markdown",
   "metadata": {},
   "source": [
    "#### ISSUE TYPE IN A TIMEFRAME"
   ]
  },
  {
   "cell_type": "code",
   "execution_count": 26,
   "metadata": {},
   "outputs": [],
   "source": [
    "def density(issue, number_of_issues):\n",
    "    issue_density = round((issue / number_of_issues) * 100, 2)\n",
    "    return issue_density"
   ]
  },
  {
   "cell_type": "code",
   "execution_count": 27,
   "metadata": {},
   "outputs": [],
   "source": [
    "def m8(tag_dict, number_of_issues, no_sprint):\n",
    "    \n",
    "    issue_densities = pd.DataFrame({\n",
    "         \"hotfix\": [density(tag_dict[\"HOTFIX\"], number_of_issues)],\n",
    "        \"docs\": [density(tag_dict[\"DOCS\"], number_of_issues)],\n",
    "        \"feature\": [density(tag_dict[\"FEATURE\"], number_of_issues)],\n",
    "        \"arq\": [density(tag_dict[\"ARQ\"], number_of_issues)],\n",
    "        \"devops\": [density(tag_dict[\"DEVOPS\"], number_of_issues)],\n",
    "        \"analytics\": [density(tag_dict[\"ANALYTICS\"], number_of_issues)],\n",
    "        \"us\": [density(tag_dict[\"US\"], number_of_issues)],\n",
    "        \"easy\": [density(tag_dict[\"EASY\"], number_of_issues)],\n",
    "        \"medium\": [density(tag_dict[\"MEDIUM\"], number_of_issues)],\n",
    "        \"hard\": [density(tag_dict[\"HARD\"], number_of_issues)],\n",
    "        \"eps\": [density(tag_dict[\"EPS\"], number_of_issues)],\n",
    "        \"mds\": [density(tag_dict[\"MDS\"], number_of_issues)],\n",
    "        \"no_sprint\": no_sprint\n",
    "    })\n",
    "    \n",
    "    return issue_densities"
   ]
  },
  {
   "cell_type": "markdown",
   "metadata": {},
   "source": [
    "#### BUGS RATIO"
   ]
  },
  {
   "cell_type": "code",
   "execution_count": 28,
   "metadata": {},
   "outputs": [],
   "source": [
    "def m9(tag_dict, number_of_issues):\n",
    "    \n",
    "    bugs_ratio = round(((tag_dict[\"DOCS\"] + tag_dict[\"FEATURE\"] + tag_dict[\"ARQ\"] + tag_dict[\"DEVOPS\"] + tag_dict[\"ANALYTICS\"]) / number_of_issues) * 100, 2)\n",
    "    \n",
    "    return bugs_ratio"
   ]
  },
  {
   "cell_type": "markdown",
   "metadata": {},
   "source": [
    "## TIMEFRAME: SPRINT 0"
   ]
  },
  {
   "cell_type": "code",
   "execution_count": 29,
   "metadata": {},
   "outputs": [],
   "source": [
    "NUMBER_OF_ISSUES_RESOLVED = 7\n",
    "NUMBER_OF_ISSUES = 7\n",
    "\n",
    "TAGS = {\n",
    "    \"HOTFIX\": 0,\n",
    "    \"DOCS\": 0,\n",
    "    \"FEATURE\": 0,\n",
    "    \"ARQ\": 0,\n",
    "    \"DEVOPS\": 0,\n",
    "    \"ANALYTICS\": 0,\n",
    "    \"US\": 0,\n",
    "    \"EASY\": 0,\n",
    "    \"MEDIUM\": 0,\n",
    "    \"HARD\": 0,\n",
    "    \"EPS\": 7,\n",
    "    \"MDS\": 4\n",
    "}"
   ]
  },
  {
   "cell_type": "code",
   "execution_count": 30,
   "metadata": {},
   "outputs": [],
   "source": [
    "s0_m7 = m7(NUMBER_OF_ISSUES_RESOLVED, NUMBER_OF_ISSUES)"
   ]
  },
  {
   "cell_type": "code",
   "execution_count": 31,
   "metadata": {},
   "outputs": [],
   "source": [
    "s0_m8 = m8(TAGS, NUMBER_OF_ISSUES, 0)"
   ]
  },
  {
   "cell_type": "code",
   "execution_count": 32,
   "metadata": {},
   "outputs": [],
   "source": [
    "s0_m9 = m9(TAGS, NUMBER_OF_ISSUES)"
   ]
  },
  {
   "cell_type": "markdown",
   "metadata": {},
   "source": [
    "## TIMEFRAME: SPRINT 1"
   ]
  },
  {
   "cell_type": "code",
   "execution_count": 33,
   "metadata": {},
   "outputs": [],
   "source": [
    "NUMBER_OF_ISSUES_RESOLVED = 10\n",
    "NUMBER_OF_ISSUES = 11\n",
    "\n",
    "TAGS = {\n",
    "    \"HOTFIX\": 0,\n",
    "    \"DOCS\": 1,\n",
    "    \"FEATURE\": 0,\n",
    "    \"ARQ\": 0,\n",
    "    \"DEVOPS\": 3,\n",
    "    \"ANALYTICS\": 0,\n",
    "    \"US\": 0,\n",
    "    \"EASY\": 0,\n",
    "    \"MEDIUM\": 0,\n",
    "    \"HARD\": 0,\n",
    "    \"EPS\": 9,\n",
    "    \"MDS\": 2\n",
    "}"
   ]
  },
  {
   "cell_type": "code",
   "execution_count": 34,
   "metadata": {},
   "outputs": [],
   "source": [
    "s1_m7 = m7(NUMBER_OF_ISSUES_RESOLVED, NUMBER_OF_ISSUES)"
   ]
  },
  {
   "cell_type": "code",
   "execution_count": 35,
   "metadata": {},
   "outputs": [],
   "source": [
    "s1_m8 = m8(TAGS, NUMBER_OF_ISSUES, 1)"
   ]
  },
  {
   "cell_type": "code",
   "execution_count": 36,
   "metadata": {},
   "outputs": [],
   "source": [
    "s1_m9 = m9(TAGS, NUMBER_OF_ISSUES)"
   ]
  },
  {
   "cell_type": "markdown",
   "metadata": {},
   "source": [
    "## TIMEFRAME: SPRINT 2"
   ]
  },
  {
   "cell_type": "code",
   "execution_count": 37,
   "metadata": {},
   "outputs": [],
   "source": [
    "NUMBER_OF_ISSUES_RESOLVED = 9\n",
    "NUMBER_OF_ISSUES = 11\n",
    "\n",
    "TAGS = {\n",
    "    \"HOTFIX\": 0,\n",
    "    \"DOCS\": 2,\n",
    "    \"FEATURE\": 0,\n",
    "    \"ARQ\": 0,\n",
    "    \"DEVOPS\": 3,\n",
    "    \"ANALYTICS\": 0,\n",
    "    \"US\": 1,\n",
    "    \"EASY\": 0,\n",
    "    \"MEDIUM\": 0,\n",
    "    \"HARD\": 0,\n",
    "    \"EPS\": 7,\n",
    "    \"MDS\": 3\n",
    "}"
   ]
  },
  {
   "cell_type": "code",
   "execution_count": 38,
   "metadata": {},
   "outputs": [],
   "source": [
    "s2_m7 = m7(NUMBER_OF_ISSUES_RESOLVED, NUMBER_OF_ISSUES)"
   ]
  },
  {
   "cell_type": "code",
   "execution_count": 39,
   "metadata": {},
   "outputs": [],
   "source": [
    "s2_m8 = m8(TAGS, NUMBER_OF_ISSUES, 2)"
   ]
  },
  {
   "cell_type": "code",
   "execution_count": 40,
   "metadata": {},
   "outputs": [],
   "source": [
    "s2_m9 = m9(TAGS, NUMBER_OF_ISSUES)"
   ]
  },
  {
   "cell_type": "markdown",
   "metadata": {},
   "source": [
    "## TIMEFRAME: SPRINT 3"
   ]
  },
  {
   "cell_type": "code",
   "execution_count": 41,
   "metadata": {},
   "outputs": [],
   "source": [
    "NUMBER_OF_ISSUES_RESOLVED = 11\n",
    "NUMBER_OF_ISSUES = 14\n",
    "\n",
    "TAGS = {\n",
    "    \"HOTFIX\": 0,\n",
    "    \"DOCS\": 3,\n",
    "    \"FEATURE\": 0,\n",
    "    \"ARQ\": 0,\n",
    "    \"DEVOPS\": 1,\n",
    "    \"ANALYTICS\": 0,\n",
    "    \"US\": 1,\n",
    "    \"EASY\": 0,\n",
    "    \"MEDIUM\": 0,\n",
    "    \"HARD\": 0,\n",
    "    \"EPS\": 6,\n",
    "    \"MDS\": 6\n",
    "}"
   ]
  },
  {
   "cell_type": "code",
   "execution_count": 42,
   "metadata": {},
   "outputs": [],
   "source": [
    "s3_m7 = m7(NUMBER_OF_ISSUES_RESOLVED, NUMBER_OF_ISSUES)"
   ]
  },
  {
   "cell_type": "code",
   "execution_count": 43,
   "metadata": {},
   "outputs": [],
   "source": [
    "s3_m8 = m8(TAGS, NUMBER_OF_ISSUES, 3)"
   ]
  },
  {
   "cell_type": "code",
   "execution_count": 44,
   "metadata": {},
   "outputs": [],
   "source": [
    "s3_m9 = m9(TAGS, NUMBER_OF_ISSUES)"
   ]
  },
  {
   "cell_type": "markdown",
   "metadata": {},
   "source": [
    "## TIMEFRAME: SPRINT 4"
   ]
  },
  {
   "cell_type": "code",
   "execution_count": 45,
   "metadata": {},
   "outputs": [],
   "source": [
    "NUMBER_OF_ISSUES_RESOLVED = 14\n",
    "NUMBER_OF_ISSUES = 14\n",
    "\n",
    "TAGS = {\n",
    "    \"HOTFIX\": 3,\n",
    "    \"DOCS\": 5,\n",
    "    \"FEATURE\": 0,\n",
    "    \"ARQ\": 1,\n",
    "    \"DEVOPS\": 2,\n",
    "    \"ANALYTICS\": 0,\n",
    "    \"US\": 4,\n",
    "    \"EASY\": 0,\n",
    "    \"MEDIUM\": 0,\n",
    "    \"HARD\": 0,\n",
    "    \"EPS\": 9,\n",
    "    \"MDS\": 5\n",
    "}"
   ]
  },
  {
   "cell_type": "code",
   "execution_count": 46,
   "metadata": {},
   "outputs": [],
   "source": [
    "s4_m7 = m7(NUMBER_OF_ISSUES_RESOLVED, NUMBER_OF_ISSUES)"
   ]
  },
  {
   "cell_type": "code",
   "execution_count": 47,
   "metadata": {},
   "outputs": [],
   "source": [
    "s4_m8 = m8(TAGS, NUMBER_OF_ISSUES, 4)"
   ]
  },
  {
   "cell_type": "code",
   "execution_count": 48,
   "metadata": {},
   "outputs": [],
   "source": [
    "s4_m9 = m9(TAGS, NUMBER_OF_ISSUES)"
   ]
  },
  {
   "cell_type": "markdown",
   "metadata": {},
   "source": [
    "## TIMEFRAME: SPRINT 5"
   ]
  },
  {
   "cell_type": "code",
   "execution_count": 49,
   "metadata": {},
   "outputs": [],
   "source": [
    "NUMBER_OF_ISSUES_RESOLVED = 17\n",
    "NUMBER_OF_ISSUES = 17\n",
    "\n",
    "TAGS = {\n",
    "    \"HOTFIX\": 4,\n",
    "    \"DOCS\": 10,\n",
    "    \"FEATURE\": 0,\n",
    "    \"ARQ\": 1,\n",
    "    \"DEVOPS\": 1,\n",
    "    \"ANALYTICS\": 1,\n",
    "    \"US\": 2,\n",
    "    \"EASY\": 0,\n",
    "    \"MEDIUM\": 0,\n",
    "    \"HARD\": 0,\n",
    "    \"EPS\": 10,\n",
    "    \"MDS\": 6\n",
    "}"
   ]
  },
  {
   "cell_type": "code",
   "execution_count": 50,
   "metadata": {},
   "outputs": [],
   "source": [
    "s5_m7 = m7(NUMBER_OF_ISSUES_RESOLVED, NUMBER_OF_ISSUES)"
   ]
  },
  {
   "cell_type": "code",
   "execution_count": 51,
   "metadata": {},
   "outputs": [],
   "source": [
    "s5_m8 = m8(TAGS, NUMBER_OF_ISSUES, 5)"
   ]
  },
  {
   "cell_type": "code",
   "execution_count": 52,
   "metadata": {},
   "outputs": [],
   "source": [
    "s5_m9 = m9(TAGS, NUMBER_OF_ISSUES)"
   ]
  },
  {
   "cell_type": "markdown",
   "metadata": {},
   "source": [
    "## TIMEFRAME: SPRINT 6"
   ]
  },
  {
   "cell_type": "code",
   "execution_count": 53,
   "metadata": {},
   "outputs": [],
   "source": [
    "NUMBER_OF_ISSUES_RESOLVED = 25\n",
    "NUMBER_OF_ISSUES = 25\n",
    "\n",
    "TAGS = {\n",
    "    \"HOTFIX\": 14,\n",
    "    \"DOCS\": 6,\n",
    "    \"FEATURE\": 0,\n",
    "    \"ARQ\": 0,\n",
    "    \"DEVOPS\": 1,\n",
    "    \"ANALYTICS\": 0,\n",
    "    \"US\": 0,\n",
    "    \"EASY\": 0,\n",
    "    \"MEDIUM\": 0,\n",
    "    \"HARD\": 0,\n",
    "    \"EPS\": 11,\n",
    "    \"MDS\": 17\n",
    "}"
   ]
  },
  {
   "cell_type": "code",
   "execution_count": 54,
   "metadata": {},
   "outputs": [],
   "source": [
    "s6_m7 = m7(NUMBER_OF_ISSUES_RESOLVED, NUMBER_OF_ISSUES)"
   ]
  },
  {
   "cell_type": "code",
   "execution_count": 55,
   "metadata": {},
   "outputs": [],
   "source": [
    "s6_m8 = m8(TAGS, NUMBER_OF_ISSUES, 6)"
   ]
  },
  {
   "cell_type": "code",
   "execution_count": 56,
   "metadata": {},
   "outputs": [],
   "source": [
    "s6_m9 = m9(TAGS, NUMBER_OF_ISSUES)"
   ]
  },
  {
   "cell_type": "markdown",
   "metadata": {},
   "source": [
    "## TIMEFRAME: SPRINT 7"
   ]
  },
  {
   "cell_type": "code",
   "execution_count": 57,
   "metadata": {},
   "outputs": [],
   "source": [
    "NUMBER_OF_ISSUES_RESOLVED = 9\n",
    "NUMBER_OF_ISSUES = 14\n",
    "\n",
    "TAGS = {\n",
    "    \"HOTFIX\": 0,\n",
    "    \"DOCS\": 2,\n",
    "    \"FEATURE\": 0,\n",
    "    \"ARQ\": 0,\n",
    "    \"DEVOPS\": 3,\n",
    "    \"ANALYTICS\": 1,\n",
    "    \"US\": 6,\n",
    "    \"EASY\": 0,\n",
    "    \"MEDIUM\": 0,\n",
    "    \"HARD\": 0,\n",
    "    \"EPS\": 5,\n",
    "    \"MDS\": 6\n",
    "}"
   ]
  },
  {
   "cell_type": "code",
   "execution_count": 58,
   "metadata": {},
   "outputs": [],
   "source": [
    "s7_m7 = m7(NUMBER_OF_ISSUES_RESOLVED, NUMBER_OF_ISSUES)"
   ]
  },
  {
   "cell_type": "code",
   "execution_count": 59,
   "metadata": {},
   "outputs": [],
   "source": [
    "s7_m8 = m8(TAGS, NUMBER_OF_ISSUES, 7)"
   ]
  },
  {
   "cell_type": "code",
   "execution_count": 60,
   "metadata": {},
   "outputs": [],
   "source": [
    "s7_m9 = m9(TAGS, NUMBER_OF_ISSUES)"
   ]
  },
  {
   "cell_type": "markdown",
   "metadata": {},
   "source": [
    "## TIMEFRAME: SPRINT 8"
   ]
  },
  {
   "cell_type": "code",
   "execution_count": 61,
   "metadata": {},
   "outputs": [],
   "source": [
    "NUMBER_OF_ISSUES_RESOLVED = 9\n",
    "NUMBER_OF_ISSUES = 11\n",
    "\n",
    "TAGS = {\n",
    "    \"HOTFIX\": 1,\n",
    "    \"DOCS\": 3,\n",
    "    \"FEATURE\": 0,\n",
    "    \"ARQ\": 1,\n",
    "    \"DEVOPS\": 1,\n",
    "    \"ANALYTICS\": 0,\n",
    "    \"US\": 5,\n",
    "    \"EASY\": 0,\n",
    "    \"MEDIUM\": 0,\n",
    "    \"HARD\": 0,\n",
    "    \"EPS\": 4,\n",
    "    \"MDS\": 7\n",
    "}"
   ]
  },
  {
   "cell_type": "code",
   "execution_count": 62,
   "metadata": {},
   "outputs": [],
   "source": [
    "s8_m7 = m7(NUMBER_OF_ISSUES_RESOLVED, NUMBER_OF_ISSUES)"
   ]
  },
  {
   "cell_type": "code",
   "execution_count": 63,
   "metadata": {},
   "outputs": [],
   "source": [
    "s8_m8 = m8(TAGS, NUMBER_OF_ISSUES, 8)"
   ]
  },
  {
   "cell_type": "code",
   "execution_count": 64,
   "metadata": {},
   "outputs": [],
   "source": [
    "s8_m9 = m9(TAGS, NUMBER_OF_ISSUES)"
   ]
  },
  {
   "cell_type": "markdown",
   "metadata": {},
   "source": [
    "## TIMEFRAME: SPRINT 9"
   ]
  },
  {
   "cell_type": "code",
   "execution_count": 65,
   "metadata": {},
   "outputs": [],
   "source": [
    "NUMBER_OF_ISSUES_RESOLVED = 16\n",
    "NUMBER_OF_ISSUES = 16\n",
    "\n",
    "TAGS = {\n",
    "    \"HOTFIX\": 4,\n",
    "    \"DOCS\": 3,\n",
    "    \"FEATURE\": 0,\n",
    "    \"ARQ\": 0,\n",
    "    \"DEVOPS\": 2,\n",
    "    \"ANALYTICS\": 1,\n",
    "    \"US\": 7,\n",
    "    \"EASY\": 10,\n",
    "    \"MEDIUM\": 6,\n",
    "    \"HARD\": 0,\n",
    "    \"EPS\": 6,\n",
    "    \"MDS\": 11\n",
    "}"
   ]
  },
  {
   "cell_type": "code",
   "execution_count": 66,
   "metadata": {},
   "outputs": [],
   "source": [
    "s9_m7 = m7(NUMBER_OF_ISSUES_RESOLVED, NUMBER_OF_ISSUES)"
   ]
  },
  {
   "cell_type": "code",
   "execution_count": 67,
   "metadata": {},
   "outputs": [],
   "source": [
    "s9_m8 = m8(TAGS, NUMBER_OF_ISSUES, 9)"
   ]
  },
  {
   "cell_type": "code",
   "execution_count": 68,
   "metadata": {},
   "outputs": [],
   "source": [
    "s9_m9 = m9(TAGS, NUMBER_OF_ISSUES)"
   ]
  },
  {
   "cell_type": "markdown",
   "metadata": {},
   "source": [
    "## TIMEFRAME: SPRINT 10"
   ]
  },
  {
   "cell_type": "code",
   "execution_count": 69,
   "metadata": {},
   "outputs": [],
   "source": [
    "NUMBER_OF_ISSUES_RESOLVED = 20\n",
    "NUMBER_OF_ISSUES = 20\n",
    "\n",
    "TAGS = {\n",
    "    \"HOTFIX\": 5,\n",
    "    \"DOCS\": 6,\n",
    "    \"FEATURE\": 0,\n",
    "    \"ARQ\": 1,\n",
    "    \"DEVOPS\": 3,\n",
    "    \"ANALYTICS\": 0,\n",
    "    \"US\": 8,\n",
    "    \"EASY\": 13,\n",
    "    \"MEDIUM\": 7,\n",
    "    \"HARD\": 0,\n",
    "    \"EPS\": 9,\n",
    "    \"MDS\": 11\n",
    "}"
   ]
  },
  {
   "cell_type": "code",
   "execution_count": 70,
   "metadata": {},
   "outputs": [],
   "source": [
    "s10_m7 = m7(NUMBER_OF_ISSUES_RESOLVED, NUMBER_OF_ISSUES)"
   ]
  },
  {
   "cell_type": "code",
   "execution_count": 71,
   "metadata": {},
   "outputs": [],
   "source": [
    "s10_m8 = m8(TAGS, NUMBER_OF_ISSUES, 10)"
   ]
  },
  {
   "cell_type": "code",
   "execution_count": 72,
   "metadata": {},
   "outputs": [],
   "source": [
    "s10_m9 = m9(TAGS, NUMBER_OF_ISSUES)"
   ]
  },
  {
   "cell_type": "markdown",
   "metadata": {},
   "source": [
    "## TIMEFRAME: SPRINT 11"
   ]
  },
  {
   "cell_type": "code",
   "execution_count": 73,
   "metadata": {},
   "outputs": [],
   "source": [
    "NUMBER_OF_ISSUES_RESOLVED = 14\n",
    "NUMBER_OF_ISSUES = 14\n",
    "\n",
    "TAGS = {\n",
    "    \"HOTFIX\": 0,\n",
    "    \"DOCS\": 4,\n",
    "    \"FEATURE\": 0,\n",
    "    \"ARQ\": 0,\n",
    "    \"DEVOPS\": 0,\n",
    "    \"ANALYTICS\": 0,\n",
    "    \"US\": 4,\n",
    "    \"EASY\": 4,\n",
    "    \"MEDIUM\": 7,\n",
    "    \"HARD\": 0,\n",
    "    \"EPS\": 6,\n",
    "    \"MDS\": 7\n",
    "}"
   ]
  },
  {
   "cell_type": "code",
   "execution_count": 74,
   "metadata": {},
   "outputs": [],
   "source": [
    "s11_m7 = m7(NUMBER_OF_ISSUES_RESOLVED, NUMBER_OF_ISSUES)"
   ]
  },
  {
   "cell_type": "code",
   "execution_count": 75,
   "metadata": {},
   "outputs": [],
   "source": [
    "s11_m8 = m8(TAGS, NUMBER_OF_ISSUES, 11)"
   ]
  },
  {
   "cell_type": "code",
   "execution_count": 76,
   "metadata": {},
   "outputs": [],
   "source": [
    "s11_m9 = m9(TAGS, NUMBER_OF_ISSUES)"
   ]
  },
  {
   "cell_type": "markdown",
   "metadata": {},
   "source": [
    "## TIMEFRAME: SPRINT 12"
   ]
  },
  {
   "cell_type": "code",
   "execution_count": 77,
   "metadata": {},
   "outputs": [],
   "source": [
    "NUMBER_OF_ISSUES_RESOLVED = 1\n",
    "NUMBER_OF_ISSUES = 2\n",
    "\n",
    "TAGS = {\n",
    "    \"HOTFIX\": 0,\n",
    "    \"DOCS\": 0,\n",
    "    \"FEATURE\": 0,\n",
    "    \"ARQ\": 0,\n",
    "    \"DEVOPS\": 1,\n",
    "    \"ANALYTICS\": 1,\n",
    "    \"US\": 0,\n",
    "    \"EASY\": 0,\n",
    "    \"MEDIUM\": 1,\n",
    "    \"HARD\": 0,\n",
    "    \"EPS\": 1,\n",
    "    \"MDS\": 0\n",
    "}"
   ]
  },
  {
   "cell_type": "code",
   "execution_count": 78,
   "metadata": {},
   "outputs": [],
   "source": [
    "s12_m7 = m7(NUMBER_OF_ISSUES_RESOLVED, NUMBER_OF_ISSUES)"
   ]
  },
  {
   "cell_type": "code",
   "execution_count": 79,
   "metadata": {},
   "outputs": [],
   "source": [
    "s12_m8 = m8(TAGS, NUMBER_OF_ISSUES, 12)"
   ]
  },
  {
   "cell_type": "code",
   "execution_count": 80,
   "metadata": {},
   "outputs": [],
   "source": [
    "s12_m9 = m9(TAGS, NUMBER_OF_ISSUES)"
   ]
  },
  {
   "cell_type": "markdown",
   "metadata": {},
   "source": [
    "## TIMEFRAME: SPRINT 13"
   ]
  },
  {
   "cell_type": "code",
   "execution_count": 81,
   "metadata": {},
   "outputs": [],
   "source": [
    "NUMBER_OF_ISSUES_RESOLVED = 15\n",
    "NUMBER_OF_ISSUES = 15\n",
    "\n",
    "TAGS = {\n",
    "    \"HOTFIX\": 0,\n",
    "    \"DOCS\": 2,\n",
    "    \"FEATURE\": 0,\n",
    "    \"ARQ\": 0,\n",
    "    \"DEVOPS\": 1,\n",
    "    \"ANALYTICS\": 1,\n",
    "    \"US\": 10,\n",
    "    \"EASY\": 7,\n",
    "    \"MEDIUM\": 4,\n",
    "    \"HARD\": 1,\n",
    "    \"EPS\": 2,\n",
    "    \"MDS\": 12\n",
    "}"
   ]
  },
  {
   "cell_type": "code",
   "execution_count": 82,
   "metadata": {
    "scrolled": true
   },
   "outputs": [],
   "source": [
    "s13_m7 = m7(NUMBER_OF_ISSUES_RESOLVED, NUMBER_OF_ISSUES)"
   ]
  },
  {
   "cell_type": "code",
   "execution_count": 83,
   "metadata": {},
   "outputs": [],
   "source": [
    "s13_m8 = m8(TAGS, NUMBER_OF_ISSUES, 13)"
   ]
  },
  {
   "cell_type": "code",
   "execution_count": 84,
   "metadata": {},
   "outputs": [],
   "source": [
    "s13_m9 = m9(TAGS, NUMBER_OF_ISSUES)"
   ]
  },
  {
   "cell_type": "markdown",
   "metadata": {},
   "source": [
    "## TIMEFRAME: SPRINT 14"
   ]
  },
  {
   "cell_type": "code",
   "execution_count": 85,
   "metadata": {},
   "outputs": [],
   "source": [
    "NUMBER_OF_ISSUES_RESOLVED = 0\n",
    "NUMBER_OF_ISSUES = 11\n",
    "\n",
    "TAGS = {\n",
    "    \"HOTFIX\": 1,\n",
    "    \"DOCS\": 6,\n",
    "    \"FEATURE\": 0,\n",
    "    \"ARQ\": 0,\n",
    "    \"DEVOPS\": 1,\n",
    "    \"ANALYTICS\": 2,\n",
    "    \"US\": 0,\n",
    "    \"EASY\": 3,\n",
    "    \"MEDIUM\": 6,\n",
    "    \"HARD\": 0,\n",
    "    \"EPS\": 7,\n",
    "    \"MDS\": 5\n",
    "}"
   ]
  },
  {
   "cell_type": "code",
   "execution_count": 86,
   "metadata": {
    "scrolled": true
   },
   "outputs": [],
   "source": [
    "s14_m7 = m7(NUMBER_OF_ISSUES_RESOLVED, NUMBER_OF_ISSUES)"
   ]
  },
  {
   "cell_type": "code",
   "execution_count": 87,
   "metadata": {},
   "outputs": [],
   "source": [
    "s14_m8 = m8(TAGS, NUMBER_OF_ISSUES, 14)"
   ]
  },
  {
   "cell_type": "code",
   "execution_count": 88,
   "metadata": {},
   "outputs": [],
   "source": [
    "s14_m9 = m9(TAGS, NUMBER_OF_ISSUES)"
   ]
  },
  {
   "cell_type": "markdown",
   "metadata": {},
   "source": [
    "### METRIC RESULTS"
   ]
  },
  {
   "cell_type": "code",
   "execution_count": 89,
   "metadata": {},
   "outputs": [],
   "source": [
    "def create_metrics_df(m7_list, m9_list, dates):\n",
    "    \n",
    "# data_inicio   data_fim    m7   m9    asc2    totalAC2    no_sprint\n",
    "    start_date = []\n",
    "    end_date = []\n",
    "    asc2_list = []\n",
    "    total_asc2_list = []\n",
    "    \n",
    "    for sprint_dates in dates:\n",
    "        start_date.append(sprint_dates[0])\n",
    "        end_date.append(sprint_dates[1])\n",
    "        \n",
    "    for i in range(15):\n",
    "        asc2 = (m7_list[i] * 0.5) + (m9_list[i] * 0.5)\n",
    "        asc2_list.append(asc2)\n",
    "        total_asc2_list.append(asc2 * 0.5)\n",
    "        \n",
    "        \n",
    "\n",
    "        \n",
    "    metrics_df = pd.DataFrame({'data_inicio': start_date,\n",
    "                               'data_fim': end_date,\n",
    "                               'm7': m7_list,\n",
    "                               'm9': m9_list, \n",
    "                               'asc2': asc2_list,\n",
    "                               'totalAC2': total_asc2_list,\n",
    "                               'no_sprint': range(15)\n",
    "                              })\n",
    "        \n",
    "    return metrics_df"
   ]
  },
  {
   "cell_type": "code",
   "execution_count": 90,
   "metadata": {},
   "outputs": [],
   "source": [
    "metrics_m7 = [s0_m7, s1_m7, s2_m7, s3_m7, s4_m7, s5_m7, s6_m7, s7_m7, s8_m7, s9_m7, s10_m7, s11_m7, s12_m7, s13_m7, s14_m7]\n",
    "metrics_m9 = [s0_m9, s1_m9, s2_m9, s3_m9, s4_m9, s5_m9, s6_m9, s7_m9, s8_m9, s9_m9, s10_m9, s11_m9, s12_m9, s13_m9, s14_m9]\n",
    "\n",
    "dates = [\n",
    "    ('02/02/2021', '12/02/2021'),\n",
    "    ('13/02/2021', '19/02/2021'),\n",
    "    ('20/02/2021', '26/02/2021'),\n",
    "    ('27/02/2021', '05/03/2021'),\n",
    "    ('05/03/2021', '12/03/2021'),\n",
    "    ('12/03/2021', '19/03/2021'),\n",
    "    ('19/03/2021', '26/03/2021'),\n",
    "    ('26/03/2021', '02/04/2021'),\n",
    "    ('02/04/2021', '09/04/2021'),\n",
    "    ('09/04/2021', '16/04/2021'),\n",
    "    ('16/04/2021', '23/04/2021'),\n",
    "    ('23/04/2021', '30/04/2021'),\n",
    "    ('30/04/2021', '07/05/2021'),\n",
    "    ('07/05/2021', '14/05/2021'),\n",
    "    ('14/05/2021', '21/05/2021')\n",
    "        ]\n",
    "        \n",
    "metrics_df = create_metrics_df(metrics_m7, metrics_m9, dates)"
   ]
  },
  {
   "cell_type": "code",
   "execution_count": 91,
   "metadata": {
    "scrolled": true
   },
   "outputs": [
    {
     "data": {
      "text/html": [
       "<div>\n",
       "<style scoped>\n",
       "    .dataframe tbody tr th:only-of-type {\n",
       "        vertical-align: middle;\n",
       "    }\n",
       "\n",
       "    .dataframe tbody tr th {\n",
       "        vertical-align: top;\n",
       "    }\n",
       "\n",
       "    .dataframe thead th {\n",
       "        text-align: right;\n",
       "    }\n",
       "</style>\n",
       "<table border=\"1\" class=\"dataframe\">\n",
       "  <thead>\n",
       "    <tr style=\"text-align: right;\">\n",
       "      <th></th>\n",
       "      <th>data_inicio</th>\n",
       "      <th>data_fim</th>\n",
       "      <th>m7</th>\n",
       "      <th>m9</th>\n",
       "      <th>asc2</th>\n",
       "      <th>totalAC2</th>\n",
       "      <th>no_sprint</th>\n",
       "    </tr>\n",
       "  </thead>\n",
       "  <tbody>\n",
       "    <tr>\n",
       "      <th>0</th>\n",
       "      <td>02/02/2021</td>\n",
       "      <td>12/02/2021</td>\n",
       "      <td>100.00</td>\n",
       "      <td>0.00</td>\n",
       "      <td>50.000</td>\n",
       "      <td>25.0000</td>\n",
       "      <td>0</td>\n",
       "    </tr>\n",
       "    <tr>\n",
       "      <th>1</th>\n",
       "      <td>13/02/2021</td>\n",
       "      <td>19/02/2021</td>\n",
       "      <td>90.91</td>\n",
       "      <td>36.36</td>\n",
       "      <td>63.635</td>\n",
       "      <td>31.8175</td>\n",
       "      <td>1</td>\n",
       "    </tr>\n",
       "    <tr>\n",
       "      <th>2</th>\n",
       "      <td>20/02/2021</td>\n",
       "      <td>26/02/2021</td>\n",
       "      <td>81.82</td>\n",
       "      <td>45.45</td>\n",
       "      <td>63.635</td>\n",
       "      <td>31.8175</td>\n",
       "      <td>2</td>\n",
       "    </tr>\n",
       "    <tr>\n",
       "      <th>3</th>\n",
       "      <td>27/02/2021</td>\n",
       "      <td>05/03/2021</td>\n",
       "      <td>78.57</td>\n",
       "      <td>28.57</td>\n",
       "      <td>53.570</td>\n",
       "      <td>26.7850</td>\n",
       "      <td>3</td>\n",
       "    </tr>\n",
       "    <tr>\n",
       "      <th>4</th>\n",
       "      <td>05/03/2021</td>\n",
       "      <td>12/03/2021</td>\n",
       "      <td>100.00</td>\n",
       "      <td>57.14</td>\n",
       "      <td>78.570</td>\n",
       "      <td>39.2850</td>\n",
       "      <td>4</td>\n",
       "    </tr>\n",
       "    <tr>\n",
       "      <th>5</th>\n",
       "      <td>12/03/2021</td>\n",
       "      <td>19/03/2021</td>\n",
       "      <td>100.00</td>\n",
       "      <td>76.47</td>\n",
       "      <td>88.235</td>\n",
       "      <td>44.1175</td>\n",
       "      <td>5</td>\n",
       "    </tr>\n",
       "    <tr>\n",
       "      <th>6</th>\n",
       "      <td>19/03/2021</td>\n",
       "      <td>26/03/2021</td>\n",
       "      <td>100.00</td>\n",
       "      <td>28.00</td>\n",
       "      <td>64.000</td>\n",
       "      <td>32.0000</td>\n",
       "      <td>6</td>\n",
       "    </tr>\n",
       "    <tr>\n",
       "      <th>7</th>\n",
       "      <td>26/03/2021</td>\n",
       "      <td>02/04/2021</td>\n",
       "      <td>64.29</td>\n",
       "      <td>42.86</td>\n",
       "      <td>53.575</td>\n",
       "      <td>26.7875</td>\n",
       "      <td>7</td>\n",
       "    </tr>\n",
       "    <tr>\n",
       "      <th>8</th>\n",
       "      <td>02/04/2021</td>\n",
       "      <td>09/04/2021</td>\n",
       "      <td>81.82</td>\n",
       "      <td>45.45</td>\n",
       "      <td>63.635</td>\n",
       "      <td>31.8175</td>\n",
       "      <td>8</td>\n",
       "    </tr>\n",
       "    <tr>\n",
       "      <th>9</th>\n",
       "      <td>09/04/2021</td>\n",
       "      <td>16/04/2021</td>\n",
       "      <td>100.00</td>\n",
       "      <td>37.50</td>\n",
       "      <td>68.750</td>\n",
       "      <td>34.3750</td>\n",
       "      <td>9</td>\n",
       "    </tr>\n",
       "    <tr>\n",
       "      <th>10</th>\n",
       "      <td>16/04/2021</td>\n",
       "      <td>23/04/2021</td>\n",
       "      <td>100.00</td>\n",
       "      <td>50.00</td>\n",
       "      <td>75.000</td>\n",
       "      <td>37.5000</td>\n",
       "      <td>10</td>\n",
       "    </tr>\n",
       "    <tr>\n",
       "      <th>11</th>\n",
       "      <td>23/04/2021</td>\n",
       "      <td>30/04/2021</td>\n",
       "      <td>100.00</td>\n",
       "      <td>28.57</td>\n",
       "      <td>64.285</td>\n",
       "      <td>32.1425</td>\n",
       "      <td>11</td>\n",
       "    </tr>\n",
       "    <tr>\n",
       "      <th>12</th>\n",
       "      <td>30/04/2021</td>\n",
       "      <td>07/05/2021</td>\n",
       "      <td>50.00</td>\n",
       "      <td>100.00</td>\n",
       "      <td>75.000</td>\n",
       "      <td>37.5000</td>\n",
       "      <td>12</td>\n",
       "    </tr>\n",
       "    <tr>\n",
       "      <th>13</th>\n",
       "      <td>07/05/2021</td>\n",
       "      <td>14/05/2021</td>\n",
       "      <td>100.00</td>\n",
       "      <td>26.67</td>\n",
       "      <td>63.335</td>\n",
       "      <td>31.6675</td>\n",
       "      <td>13</td>\n",
       "    </tr>\n",
       "    <tr>\n",
       "      <th>14</th>\n",
       "      <td>14/05/2021</td>\n",
       "      <td>21/05/2021</td>\n",
       "      <td>0.00</td>\n",
       "      <td>81.82</td>\n",
       "      <td>40.910</td>\n",
       "      <td>20.4550</td>\n",
       "      <td>14</td>\n",
       "    </tr>\n",
       "  </tbody>\n",
       "</table>\n",
       "</div>"
      ],
      "text/plain": [
       "   data_inicio    data_fim      m7      m9    asc2  totalAC2  no_sprint\n",
       "0   02/02/2021  12/02/2021  100.00    0.00  50.000   25.0000          0\n",
       "1   13/02/2021  19/02/2021   90.91   36.36  63.635   31.8175          1\n",
       "2   20/02/2021  26/02/2021   81.82   45.45  63.635   31.8175          2\n",
       "3   27/02/2021  05/03/2021   78.57   28.57  53.570   26.7850          3\n",
       "4   05/03/2021  12/03/2021  100.00   57.14  78.570   39.2850          4\n",
       "5   12/03/2021  19/03/2021  100.00   76.47  88.235   44.1175          5\n",
       "6   19/03/2021  26/03/2021  100.00   28.00  64.000   32.0000          6\n",
       "7   26/03/2021  02/04/2021   64.29   42.86  53.575   26.7875          7\n",
       "8   02/04/2021  09/04/2021   81.82   45.45  63.635   31.8175          8\n",
       "9   09/04/2021  16/04/2021  100.00   37.50  68.750   34.3750          9\n",
       "10  16/04/2021  23/04/2021  100.00   50.00  75.000   37.5000         10\n",
       "11  23/04/2021  30/04/2021  100.00   28.57  64.285   32.1425         11\n",
       "12  30/04/2021  07/05/2021   50.00  100.00  75.000   37.5000         12\n",
       "13  07/05/2021  14/05/2021  100.00   26.67  63.335   31.6675         13\n",
       "14  14/05/2021  21/05/2021    0.00   81.82  40.910   20.4550         14"
      ]
     },
     "execution_count": 91,
     "metadata": {},
     "output_type": "execute_result"
    }
   ],
   "source": [
    "metrics_df"
   ]
  },
  {
   "cell_type": "code",
   "execution_count": 92,
   "metadata": {},
   "outputs": [],
   "source": [
    "metrics_df.to_csv('data/fga-eps-mds-2020-2-SiGeD-qualidade-total-processo-SPRINT.csv', index = False)"
   ]
  },
  {
   "cell_type": "code",
   "execution_count": 93,
   "metadata": {},
   "outputs": [],
   "source": [
    "m8_metrics = pd.concat([s0_m8, s1_m8, s2_m8, s3_m8, s4_m8, s5_m8, s6_m8, s7_m8, s8_m8, s9_m8, s10_m8, s11_m8, s12_m8, s13_m8, s14_m8], ignore_index=True)\n"
   ]
  },
  {
   "cell_type": "code",
   "execution_count": 94,
   "metadata": {},
   "outputs": [
    {
     "data": {
      "text/html": [
       "<div>\n",
       "<style scoped>\n",
       "    .dataframe tbody tr th:only-of-type {\n",
       "        vertical-align: middle;\n",
       "    }\n",
       "\n",
       "    .dataframe tbody tr th {\n",
       "        vertical-align: top;\n",
       "    }\n",
       "\n",
       "    .dataframe thead th {\n",
       "        text-align: right;\n",
       "    }\n",
       "</style>\n",
       "<table border=\"1\" class=\"dataframe\">\n",
       "  <thead>\n",
       "    <tr style=\"text-align: right;\">\n",
       "      <th></th>\n",
       "      <th>hotfix</th>\n",
       "      <th>docs</th>\n",
       "      <th>feature</th>\n",
       "      <th>arq</th>\n",
       "      <th>devops</th>\n",
       "      <th>analytics</th>\n",
       "      <th>us</th>\n",
       "      <th>easy</th>\n",
       "      <th>medium</th>\n",
       "      <th>hard</th>\n",
       "      <th>eps</th>\n",
       "      <th>mds</th>\n",
       "      <th>no_sprint</th>\n",
       "    </tr>\n",
       "  </thead>\n",
       "  <tbody>\n",
       "    <tr>\n",
       "      <th>0</th>\n",
       "      <td>0.00</td>\n",
       "      <td>0.00</td>\n",
       "      <td>0.0</td>\n",
       "      <td>0.00</td>\n",
       "      <td>0.00</td>\n",
       "      <td>0.00</td>\n",
       "      <td>0.00</td>\n",
       "      <td>0.00</td>\n",
       "      <td>0.00</td>\n",
       "      <td>0.00</td>\n",
       "      <td>100.00</td>\n",
       "      <td>57.14</td>\n",
       "      <td>0</td>\n",
       "    </tr>\n",
       "    <tr>\n",
       "      <th>1</th>\n",
       "      <td>0.00</td>\n",
       "      <td>9.09</td>\n",
       "      <td>0.0</td>\n",
       "      <td>0.00</td>\n",
       "      <td>27.27</td>\n",
       "      <td>0.00</td>\n",
       "      <td>0.00</td>\n",
       "      <td>0.00</td>\n",
       "      <td>0.00</td>\n",
       "      <td>0.00</td>\n",
       "      <td>81.82</td>\n",
       "      <td>18.18</td>\n",
       "      <td>1</td>\n",
       "    </tr>\n",
       "    <tr>\n",
       "      <th>2</th>\n",
       "      <td>0.00</td>\n",
       "      <td>18.18</td>\n",
       "      <td>0.0</td>\n",
       "      <td>0.00</td>\n",
       "      <td>27.27</td>\n",
       "      <td>0.00</td>\n",
       "      <td>9.09</td>\n",
       "      <td>0.00</td>\n",
       "      <td>0.00</td>\n",
       "      <td>0.00</td>\n",
       "      <td>63.64</td>\n",
       "      <td>27.27</td>\n",
       "      <td>2</td>\n",
       "    </tr>\n",
       "    <tr>\n",
       "      <th>3</th>\n",
       "      <td>0.00</td>\n",
       "      <td>21.43</td>\n",
       "      <td>0.0</td>\n",
       "      <td>0.00</td>\n",
       "      <td>7.14</td>\n",
       "      <td>0.00</td>\n",
       "      <td>7.14</td>\n",
       "      <td>0.00</td>\n",
       "      <td>0.00</td>\n",
       "      <td>0.00</td>\n",
       "      <td>42.86</td>\n",
       "      <td>42.86</td>\n",
       "      <td>3</td>\n",
       "    </tr>\n",
       "    <tr>\n",
       "      <th>4</th>\n",
       "      <td>21.43</td>\n",
       "      <td>35.71</td>\n",
       "      <td>0.0</td>\n",
       "      <td>7.14</td>\n",
       "      <td>14.29</td>\n",
       "      <td>0.00</td>\n",
       "      <td>28.57</td>\n",
       "      <td>0.00</td>\n",
       "      <td>0.00</td>\n",
       "      <td>0.00</td>\n",
       "      <td>64.29</td>\n",
       "      <td>35.71</td>\n",
       "      <td>4</td>\n",
       "    </tr>\n",
       "    <tr>\n",
       "      <th>5</th>\n",
       "      <td>23.53</td>\n",
       "      <td>58.82</td>\n",
       "      <td>0.0</td>\n",
       "      <td>5.88</td>\n",
       "      <td>5.88</td>\n",
       "      <td>5.88</td>\n",
       "      <td>11.76</td>\n",
       "      <td>0.00</td>\n",
       "      <td>0.00</td>\n",
       "      <td>0.00</td>\n",
       "      <td>58.82</td>\n",
       "      <td>35.29</td>\n",
       "      <td>5</td>\n",
       "    </tr>\n",
       "    <tr>\n",
       "      <th>6</th>\n",
       "      <td>56.00</td>\n",
       "      <td>24.00</td>\n",
       "      <td>0.0</td>\n",
       "      <td>0.00</td>\n",
       "      <td>4.00</td>\n",
       "      <td>0.00</td>\n",
       "      <td>0.00</td>\n",
       "      <td>0.00</td>\n",
       "      <td>0.00</td>\n",
       "      <td>0.00</td>\n",
       "      <td>44.00</td>\n",
       "      <td>68.00</td>\n",
       "      <td>6</td>\n",
       "    </tr>\n",
       "    <tr>\n",
       "      <th>7</th>\n",
       "      <td>0.00</td>\n",
       "      <td>14.29</td>\n",
       "      <td>0.0</td>\n",
       "      <td>0.00</td>\n",
       "      <td>21.43</td>\n",
       "      <td>7.14</td>\n",
       "      <td>42.86</td>\n",
       "      <td>0.00</td>\n",
       "      <td>0.00</td>\n",
       "      <td>0.00</td>\n",
       "      <td>35.71</td>\n",
       "      <td>42.86</td>\n",
       "      <td>7</td>\n",
       "    </tr>\n",
       "    <tr>\n",
       "      <th>8</th>\n",
       "      <td>9.09</td>\n",
       "      <td>27.27</td>\n",
       "      <td>0.0</td>\n",
       "      <td>9.09</td>\n",
       "      <td>9.09</td>\n",
       "      <td>0.00</td>\n",
       "      <td>45.45</td>\n",
       "      <td>0.00</td>\n",
       "      <td>0.00</td>\n",
       "      <td>0.00</td>\n",
       "      <td>36.36</td>\n",
       "      <td>63.64</td>\n",
       "      <td>8</td>\n",
       "    </tr>\n",
       "    <tr>\n",
       "      <th>9</th>\n",
       "      <td>25.00</td>\n",
       "      <td>18.75</td>\n",
       "      <td>0.0</td>\n",
       "      <td>0.00</td>\n",
       "      <td>12.50</td>\n",
       "      <td>6.25</td>\n",
       "      <td>43.75</td>\n",
       "      <td>62.50</td>\n",
       "      <td>37.50</td>\n",
       "      <td>0.00</td>\n",
       "      <td>37.50</td>\n",
       "      <td>68.75</td>\n",
       "      <td>9</td>\n",
       "    </tr>\n",
       "    <tr>\n",
       "      <th>10</th>\n",
       "      <td>25.00</td>\n",
       "      <td>30.00</td>\n",
       "      <td>0.0</td>\n",
       "      <td>5.00</td>\n",
       "      <td>15.00</td>\n",
       "      <td>0.00</td>\n",
       "      <td>40.00</td>\n",
       "      <td>65.00</td>\n",
       "      <td>35.00</td>\n",
       "      <td>0.00</td>\n",
       "      <td>45.00</td>\n",
       "      <td>55.00</td>\n",
       "      <td>10</td>\n",
       "    </tr>\n",
       "    <tr>\n",
       "      <th>11</th>\n",
       "      <td>0.00</td>\n",
       "      <td>28.57</td>\n",
       "      <td>0.0</td>\n",
       "      <td>0.00</td>\n",
       "      <td>0.00</td>\n",
       "      <td>0.00</td>\n",
       "      <td>28.57</td>\n",
       "      <td>28.57</td>\n",
       "      <td>50.00</td>\n",
       "      <td>0.00</td>\n",
       "      <td>42.86</td>\n",
       "      <td>50.00</td>\n",
       "      <td>11</td>\n",
       "    </tr>\n",
       "    <tr>\n",
       "      <th>12</th>\n",
       "      <td>0.00</td>\n",
       "      <td>0.00</td>\n",
       "      <td>0.0</td>\n",
       "      <td>0.00</td>\n",
       "      <td>50.00</td>\n",
       "      <td>50.00</td>\n",
       "      <td>0.00</td>\n",
       "      <td>0.00</td>\n",
       "      <td>50.00</td>\n",
       "      <td>0.00</td>\n",
       "      <td>50.00</td>\n",
       "      <td>0.00</td>\n",
       "      <td>12</td>\n",
       "    </tr>\n",
       "    <tr>\n",
       "      <th>13</th>\n",
       "      <td>0.00</td>\n",
       "      <td>13.33</td>\n",
       "      <td>0.0</td>\n",
       "      <td>0.00</td>\n",
       "      <td>6.67</td>\n",
       "      <td>6.67</td>\n",
       "      <td>66.67</td>\n",
       "      <td>46.67</td>\n",
       "      <td>26.67</td>\n",
       "      <td>6.67</td>\n",
       "      <td>13.33</td>\n",
       "      <td>80.00</td>\n",
       "      <td>13</td>\n",
       "    </tr>\n",
       "    <tr>\n",
       "      <th>14</th>\n",
       "      <td>9.09</td>\n",
       "      <td>54.55</td>\n",
       "      <td>0.0</td>\n",
       "      <td>0.00</td>\n",
       "      <td>9.09</td>\n",
       "      <td>18.18</td>\n",
       "      <td>0.00</td>\n",
       "      <td>27.27</td>\n",
       "      <td>54.55</td>\n",
       "      <td>0.00</td>\n",
       "      <td>63.64</td>\n",
       "      <td>45.45</td>\n",
       "      <td>14</td>\n",
       "    </tr>\n",
       "  </tbody>\n",
       "</table>\n",
       "</div>"
      ],
      "text/plain": [
       "    hotfix   docs  feature   arq  devops  analytics     us   easy  medium  \\\n",
       "0     0.00   0.00      0.0  0.00    0.00       0.00   0.00   0.00    0.00   \n",
       "1     0.00   9.09      0.0  0.00   27.27       0.00   0.00   0.00    0.00   \n",
       "2     0.00  18.18      0.0  0.00   27.27       0.00   9.09   0.00    0.00   \n",
       "3     0.00  21.43      0.0  0.00    7.14       0.00   7.14   0.00    0.00   \n",
       "4    21.43  35.71      0.0  7.14   14.29       0.00  28.57   0.00    0.00   \n",
       "5    23.53  58.82      0.0  5.88    5.88       5.88  11.76   0.00    0.00   \n",
       "6    56.00  24.00      0.0  0.00    4.00       0.00   0.00   0.00    0.00   \n",
       "7     0.00  14.29      0.0  0.00   21.43       7.14  42.86   0.00    0.00   \n",
       "8     9.09  27.27      0.0  9.09    9.09       0.00  45.45   0.00    0.00   \n",
       "9    25.00  18.75      0.0  0.00   12.50       6.25  43.75  62.50   37.50   \n",
       "10   25.00  30.00      0.0  5.00   15.00       0.00  40.00  65.00   35.00   \n",
       "11    0.00  28.57      0.0  0.00    0.00       0.00  28.57  28.57   50.00   \n",
       "12    0.00   0.00      0.0  0.00   50.00      50.00   0.00   0.00   50.00   \n",
       "13    0.00  13.33      0.0  0.00    6.67       6.67  66.67  46.67   26.67   \n",
       "14    9.09  54.55      0.0  0.00    9.09      18.18   0.00  27.27   54.55   \n",
       "\n",
       "    hard     eps    mds  no_sprint  \n",
       "0   0.00  100.00  57.14          0  \n",
       "1   0.00   81.82  18.18          1  \n",
       "2   0.00   63.64  27.27          2  \n",
       "3   0.00   42.86  42.86          3  \n",
       "4   0.00   64.29  35.71          4  \n",
       "5   0.00   58.82  35.29          5  \n",
       "6   0.00   44.00  68.00          6  \n",
       "7   0.00   35.71  42.86          7  \n",
       "8   0.00   36.36  63.64          8  \n",
       "9   0.00   37.50  68.75          9  \n",
       "10  0.00   45.00  55.00         10  \n",
       "11  0.00   42.86  50.00         11  \n",
       "12  0.00   50.00   0.00         12  \n",
       "13  6.67   13.33  80.00         13  \n",
       "14  0.00   63.64  45.45         14  "
      ]
     },
     "execution_count": 94,
     "metadata": {},
     "output_type": "execute_result"
    }
   ],
   "source": [
    "m8_metrics"
   ]
  },
  {
   "cell_type": "code",
   "execution_count": 95,
   "metadata": {},
   "outputs": [],
   "source": [
    "metrics_df.to_csv('data/fga-eps-mds-2020-2-SiGeD-qualidade-total-processo-m8-SPRINT.csv', index = False)"
   ]
  },
  {
   "cell_type": "code",
   "execution_count": null,
   "metadata": {},
   "outputs": [],
   "source": []
  }
 ],
 "metadata": {
  "kernelspec": {
   "display_name": "Python 3",
   "language": "python",
   "name": "python3"
  },
  "language_info": {
   "codemirror_mode": {
    "name": "ipython",
    "version": 3
   },
   "file_extension": ".py",
   "mimetype": "text/x-python",
   "name": "python",
   "nbconvert_exporter": "python",
   "pygments_lexer": "ipython3",
   "version": "3.9.5"
  }
 },
 "nbformat": 4,
 "nbformat_minor": 4
}
